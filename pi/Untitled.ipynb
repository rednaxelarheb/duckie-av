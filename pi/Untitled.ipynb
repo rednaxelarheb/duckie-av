{
 "cells": [
  {
   "cell_type": "code",
   "execution_count": 45,
   "metadata": {},
   "outputs": [],
   "source": [
    "import numpy as np"
   ]
  },
  {
   "cell_type": "code",
   "execution_count": 46,
   "metadata": {},
   "outputs": [],
   "source": [
    "def convert_vel_to_PWM(velocity):\n",
    "    if velocity > 0:\n",
    "        return min_pwm + velocity / cm_per_sec_per_PWM\n",
    "    elif velocity < 0:\n",
    "        return -min_pwm + velocity / cm_per_sec_per_PWM\n",
    "    else:\n",
    "        return 0\n",
    "\n",
    "def convert_PWM_to_vel(PWM):\n",
    "    if PWM > 0:\n",
    "        return (PWM - min_pwm) * cm_per_sec_per_PWM\n",
    "    elif PWM < 0:\n",
    "        return (PWM + min_pwm) * cm_per_sec_per_PWM\n",
    "    else:\n",
    "        return 0"
   ]
  },
  {
   "cell_type": "code",
   "execution_count": 47,
   "metadata": {},
   "outputs": [],
   "source": [
    "\n",
    "def x_ref_dumb_func(t):\n",
    "        return np.array([12.5,0,0])\n",
    "    \n",
    "x_ref_func = x_ref_dumb_func\n",
    "t = 1\n",
    "dt = 1\n",
    "x_act = np.array([0,0,0])\n",
    "x_act_prev = np.array([0,0,0])\n",
    "PWM_L_prev = 80\n",
    "PWM_R_prev = 80\n",
    "\n",
    "m = 0.83\n",
    "cm_per_sec_per_PWM = 0.15\n",
    "min_pwm = 70 #prev min_pwm\n",
    "\n",
    "# mass of the robot (kilograms)\n",
    "m = 0.830 #\n",
    "\n",
    "# yoke point distance from center of the wheel base (centimeters)\n",
    "r_length = 5 #prev r_length\n",
    "\n",
    "K = -0.1  # spring constant\n",
    "B = 0.8   # damper constant\n",
    "I = 20  "
   ]
  },
  {
   "cell_type": "code",
   "execution_count": 48,
   "metadata": {},
   "outputs": [],
   "source": [
    "    # Unit vector in direction of x_act\n",
    "    x_unit_bot = np.array([np.cos(np.deg2rad(x_act[2])),\n",
    "                           np.sin(np.deg2rad(x_act[2]))])\n",
    "\n",
    "    # World  frame yoke vector\n",
    "    r = x_unit_bot * r_length\n",
    "\n",
    "    # World Frame location of the yoke point\n",
    "    x_r = r + x_act[:2]\n",
    "\n",
    "    # The target in the world frame\n",
    "    x_ref = x_ref_func(t)[:2] + r\n",
    "\n",
    "    # Distance vector from yoke to x_ref\n",
    "    x_spring = x_ref[0:2] - x_r\n",
    "    spring_displacement = np.linalg.norm(x_spring)\n",
    "\n",
    "    # Unit vector in direction from yoke to x_ref\n",
    "    x_unit_spring = x_spring / spring_displacement\n",
    "\n",
    "    # TODO correct to using x_act_prev - x_act / timeslice\n",
    "    #speed = (PWM_L_prev + PWM_R_prev) / 2\n",
    "    delta_x_act = x_act_prev - x_act\n",
    "    dot = np.dot(delta_x_act[:2], np.array(x_unit_spring))\n",
    "    norm = np.linalg.norm(dot)\n",
    "    speed = norm / dt"
   ]
  },
  {
   "cell_type": "code",
   "execution_count": 49,
   "metadata": {},
   "outputs": [],
   "source": [
    "K = -0.00002"
   ]
  },
  {
   "cell_type": "code",
   "execution_count": 50,
   "metadata": {},
   "outputs": [],
   "source": [
    "    # F_pd as given by the spring / damper function\n",
    "    # F_pd = -K * x - B * x_dot\n",
    "    F_pd = (-K * spring_displacement - B * speed) * x_unit_spring\n",
    "\n",
    "    # F_trans = <F_pd, x_yoke_robot_frame>\n",
    "    # F_trans / m = delta_PWM_trans\n",
    "    r = x_unit_bot * r_length\n",
    "    delta_vel_trans = np.dot(F_pd, r) / m\n",
    "\n",
    "    # M_rot = r cross F_pd\n",
    "    # delta_theta_dot = M_rot / I = r cross F_pd\n",
    "    # delta_PWM_rot = delta_theta_dot * r_length\n",
    "    M_rot = np.cross(r, F_pd)\n",
    "    delta_vel_rot = r_length * M_rot / I"
   ]
  },
  {
   "cell_type": "code",
   "execution_count": 51,
   "metadata": {},
   "outputs": [
    {
     "name": "stdout",
     "output_type": "stream",
     "text": [
      "[0.00025 0.     ]\n",
      "-2e-05\n",
      "0.0\n",
      "0.0015060240963855422\n"
     ]
    }
   ],
   "source": [
    "print(F_pd)\n",
    "print(K)\n",
    "print(delta_vel_rot)\n",
    "print(delta_vel_trans)"
   ]
  },
  {
   "cell_type": "code",
   "execution_count": 52,
   "metadata": {},
   "outputs": [
    {
     "name": "stdout",
     "output_type": "stream",
     "text": [
      "80 80\n",
      "1.5 1.5\n",
      "1.5015060240963856 1.5015060240963856\n"
     ]
    }
   ],
   "source": [
    "    print(str(PWM_L_prev) + \" \" + str(PWM_R_prev))\n",
    "    vel_L_prev = convert_PWM_to_vel(PWM_L_prev)\n",
    "    vel_R_prev = convert_PWM_to_vel(PWM_R_prev)\n",
    "    print(str(vel_L_prev) + \" \" + str(vel_R_prev))\n",
    "    \n",
    "    vel_L_new = vel_L_prev + delta_vel_trans - delta_vel_rot\n",
    "    vel_R_new = vel_R_prev + delta_vel_trans + delta_vel_rot\n",
    "    print(str(vel_L_new) + \" \" + str(vel_L_new))"
   ]
  },
  {
   "cell_type": "code",
   "execution_count": 18,
   "metadata": {},
   "outputs": [],
   "source": [
    "    reduction_coefficient = 1\n",
    "    max_vel = convert_PWM_to_vel(400)\n",
    "    if abs(vel_L_new) > max_vel:\n",
    "        reduction_coefficient = max_vel/abs(vel_L_new)\n",
    "    if abs(vel_R_new) > max_vel:\n",
    "        right_reduction_coefficient = max_vel/abs(vel_R_new)\n",
    "        reduction_coefficient = min(right_reduction_coefficient, reduction_coefficient)"
   ]
  },
  {
   "cell_type": "code",
   "execution_count": 19,
   "metadata": {},
   "outputs": [],
   "source": [
    "\n",
    "    PWM_L_new = convert_vel_to_PWM(vel_L_new)\n",
    "    PWM_R_new = convert_vel_to_PWM(vel_R_new)\n",
    "\n",
    "    PWM_L_new = int(reduction_coefficient * PWM_L_new)\n",
    "    PWM_R_new = int(reduction_coefficient * PWM_R_new)"
   ]
  },
  {
   "cell_type": "code",
   "execution_count": 20,
   "metadata": {},
   "outputs": [
    {
     "name": "stdout",
     "output_type": "stream",
     "text": [
      "                 x_act : [0 0 0]\n",
      "                 x_ref : [17.5  0. ]\n",
      "            PWM_L_prev : 80\n",
      "            PWM_R_prev : 80\n",
      "            x_unit_bot : [1. 0.]\n",
      "                   x_r : [5. 0.]\n",
      "              x_spring : [12.5  0. ]\n",
      "   spring_displacement : 12.5\n",
      "         x_unit_spring : [1. 0.]\n",
      "                 speed : 0.0\n",
      "                  F_pd : [6.25 0.  ]\n",
      "       delta_vel_trans : 37.65060240963856\n",
      "                     r : [5. 0.]\n",
      "                 M_rot : 0.0\n",
      "         delta_vel_rot : 0.0\n",
      "            vel_L_prev : 66.66666666666667\n",
      "            vel_R_prev : 66.66666666666667\n",
      "             vel_L_new : 104.31726907630522\n",
      "             vel_R_new : 104.31726907630522\n",
      "             PWM_L_new : 85\n",
      "             PWM_R_new : 85\n",
      "==============================\n"
     ]
    }
   ],
   "source": [
    "    def print_debug_info():\n",
    "        print(\"{:>22} : {}\".format(\"x_act\", x_act))\n",
    "        print(\"{:>22} : {}\".format(\"x_ref\", x_ref))\n",
    "        print(\"{:>22} : {}\".format(\"PWM_L_prev\", PWM_L_prev))\n",
    "        print(\"{:>22} : {}\".format(\"PWM_R_prev\", PWM_R_prev))\n",
    "        print(\"{:>22} : {}\".format(\"x_unit_bot\", x_unit_bot))\n",
    "        print(\"{:>22} : {}\".format(\"x_r\", x_r))\n",
    "        print(\"{:>22} : {}\".format(\"x_spring\", x_spring))\n",
    "        print(\"{:>22} : {}\".format(\"spring_displacement\", spring_displacement))\n",
    "        print(\"{:>22} : {}\".format(\"x_unit_spring\", x_unit_spring))\n",
    "        print(\"{:>22} : {}\".format(\"speed\", speed))\n",
    "        print(\"{:>22} : {}\".format(\"F_pd\", F_pd))\n",
    "        print(\"{:>22} : {}\".format(\"delta_vel_trans\", delta_vel_trans))\n",
    "        print(\"{:>22} : {}\".format(\"r\", r))\n",
    "        print(\"{:>22} : {}\".format(\"M_rot\", M_rot))\n",
    "        print(\"{:>22} : {}\".format(\"delta_vel_rot\", delta_vel_rot))\n",
    "        print(\"{:>22} : {}\".format(\"vel_L_prev\", vel_L_prev))\n",
    "        print(\"{:>22} : {}\".format(\"vel_R_prev\", vel_R_prev))\n",
    "        print(\"{:>22} : {}\".format(\"vel_L_new\", vel_L_new))\n",
    "        print(\"{:>22} : {}\".format(\"vel_R_new\", vel_R_new))\n",
    "        print(\"{:>22} : {}\".format(\"PWM_L_new\", PWM_L_new))\n",
    "        print(\"{:>22} : {}\".format(\"PWM_R_new\", PWM_R_new))\n",
    "        print(\"=\"*30)\n",
    "    print_debug_info()"
   ]
  },
  {
   "cell_type": "code",
   "execution_count": null,
   "metadata": {},
   "outputs": [],
   "source": []
  }
 ],
 "metadata": {
  "kernelspec": {
   "display_name": "Python 3",
   "language": "python",
   "name": "python3"
  },
  "language_info": {
   "codemirror_mode": {
    "name": "ipython",
    "version": 3
   },
   "file_extension": ".py",
   "mimetype": "text/x-python",
   "name": "python",
   "nbconvert_exporter": "python",
   "pygments_lexer": "ipython3",
   "version": "3.7.4"
  }
 },
 "nbformat": 4,
 "nbformat_minor": 2
}
